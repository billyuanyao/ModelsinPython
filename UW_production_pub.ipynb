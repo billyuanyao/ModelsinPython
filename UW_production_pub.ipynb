{
 "cells": [
  {
   "cell_type": "code",
   "execution_count": null,
   "metadata": {
    "collapsed": false
   },
   "outputs": [],
   "source": [
    "import numpy as np\n",
    "import teradata\n",
    "import pandas as pd\n",
    "from pandas import Series,DataFrame\n",
    "\n",
    "import math\n",
    "\n",
    "import matplotlib.pyplot as plt\n",
    "import seaborn as sns\n",
    "sns.set_style('whitegrid')\n",
    "\n",
    "from sklearn.linear_model import LogisticRegression\n",
    "from sklearn.cross_validation import train_test_split\n",
    "\n",
    "from sklearn import metrics\n",
    "import statsmodels.api as sm\n",
    "from sklearn import preprocessing\n",
    "import glob\n",
    "import datetime\n",
    "import csv"
   ]
  },
  {
   "cell_type": "code",
   "execution_count": null,
   "metadata": {
    "collapsed": false
   },
   "outputs": [],
   "source": [
    "path =r'/Users/yuanyao/Documents/underwriting/underwriting/' # use your path\n",
    "allFiles = glob.glob(path + \"/*.txt\")\n",
    "frame = pd.DataFrame()\n",
    "list_ = []\n",
    "for file_ in allFiles:\n",
    "    df = pd.read_csv(file_,sep=\",\",dtype=object,index_col=None, header=None)\n",
    "    list_.append(df)\n",
    "frame = pd.concat(list_)"
   ]
  },
  {
   "cell_type": "code",
   "execution_count": null,
   "metadata": {
    "collapsed": false
   },
   "outputs": [],
   "source": [
    "hold_path =r'/Users/yuanyao/Documents/underwriting/underwriting_hold/' # use your path\n",
    "allFiles = glob.glob(hold_path + \"/*.txt\")\n",
    "hold_frame = pd.DataFrame()\n",
    "list_ = []\n",
    "for file_ in allFiles:\n",
    "    df = pd.read_csv(file_,sep=\",\",dtype=object,index_col=None, header=None)\n",
    "    list_.append(df)\n",
    "hold_frame = pd.concat(list_)"
   ]
  },
  {
   "cell_type": "code",
   "execution_count": null,
   "metadata": {
    "collapsed": false
   },
   "outputs": [],
   "source": [
    "sql_query=\"\"\" select * from pp_oap_yaoy_t.uw_recent_dt ;\"\"\"\n",
    "uw_recent_dt=pd.read_sql(sql_query,simba)"
   ]
  },
  {
   "cell_type": "code",
   "execution_count": null,
   "metadata": {
    "collapsed": false
   },
   "outputs": [],
   "source": [
    "# the am UW send\n",
    "uw_score=uw_no_am.loc[uw_no_am['score']<740]\n",
    "uw_am=uw_score.loc[~uw_score['cust_id'].isin(hold_frame[1])]\n",
    "uw_am['GRP']='Organic Underwriting'\n",
    "uw_am_send=uw_am[['cust_id','busn_name','GRP','AM_NAME','AM_SEGMENT','reasons']]"
   ]
  },
  {
   "cell_type": "code",
   "execution_count": null,
   "metadata": {
    "collapsed": true
   },
   "outputs": [],
   "source": [
    "# the AM PR send\n",
    "pr_am_score=pr_am.loc[pr_am['score']<790]\n",
    "pr_am_score.shape\n",
    "pr_am_dedup=pr_am_score.loc[~pr_am_score['cust_id'].isin(hold_frame[1])]\n",
    "pr_am_dedup=pr_am_dedup.loc[~pr_am_dedup['cust_id'].isin(frame[1])]\n",
    "pr_am_dedup['GRP']='Periodic Review'\n",
    "pr_am_sent=pr_am_dedup[['cust_id','busn_name','GRP','AM_NAME','AM_SEGMENT','reasons']]\n",
    "pr_am_sent=pr_am_sent.drop_duplicates(subset=['cust_id'], keep=\"last\")"
   ]
  },
  {
   "cell_type": "code",
   "execution_count": null,
   "metadata": {
    "collapsed": true
   },
   "outputs": [],
   "source": [
    "# the am PR send more\n",
    "pr_am_dedup_more=pr_am_more.loc[~pr_am_more['cust_id'].isin(hold_frame[1])]\n",
    "pr_am_dedup_more=pr_am_dedup_more.loc[~pr_am_dedup_more['cust_id'].isin(frame[1])]\n",
    "pr_am_dedup_more=pr_am_dedup_more.loc[pr_am_dedup_more['score']<850]\n",
    "pr_am_dedup_more['GRP']='Periodic Review'\n",
    "pr_am_sent_more=pr_am_dedup_more[['cust_id','busn_name','GRP','AM_NAME','AM_SEGMENT','reasons']]\n",
    "pr_am_sent_more=pr_am_sent_more.drop_duplicates(subset=['cust_id'], keep=\"last\")"
   ]
  },
  {
   "cell_type": "code",
   "execution_count": null,
   "metadata": {
    "collapsed": true
   },
   "outputs": [],
   "source": [
    "# prepare the deduped archive dataset\n",
    "am_send=pd.concat([uw_am_send, pr_am_sent,pr_am_sent_more], ignore_index=True)\n",
    "am_send_dedup=am_send.drop_duplicates(subset=['cust_id'], keep=\"last\")"
   ]
  },
  {
   "cell_type": "code",
   "execution_count": null,
   "metadata": {
    "collapsed": false
   },
   "outputs": [],
   "source": [
    "am_send_dedup"
   ]
  },
  {
   "cell_type": "code",
   "execution_count": null,
   "metadata": {
    "collapsed": true
   },
   "outputs": [],
   "source": [
    "# archive the am send including UW and PR\n",
    "send_date=datetime.date.today()+datetime.timedelta(14)\n",
    "am_send_dedup['send_dt']=send_date.strftime('%Y%m%d')\n",
    "df_obj = am_send_dedup.select_dtypes(['object'])\n",
    "am_send_dedup[df_obj.columns] = df_obj.apply(lambda x: x.str.strip())"
   ]
  },
  {
   "cell_type": "code",
   "execution_count": null,
   "metadata": {
    "collapsed": false
   },
   "outputs": [],
   "source": [
    "am_send_dedup=am_send_dedup.loc[~am_send_dedup['cust_id'].isin(hold_frame[1])]\n",
    "am_send_dedup=am_send_dedup.loc[~am_send_dedup['cust_id'].isin(frame[1])]"
   ]
  },
  {
   "cell_type": "code",
   "execution_count": null,
   "metadata": {
    "collapsed": false
   },
   "outputs": [],
   "source": [
    "# send out as email\n",
    "am_send_dedup"
   ]
  },
  {
   "cell_type": "code",
   "execution_count": null,
   "metadata": {
    "collapsed": false
   },
   "outputs": [],
   "source": [
    "# put into txt file\n",
    "today_path=pd.Timestamp('today').strftime('%Y%m%d')\n",
    "filename_archive='zoot_all_send'+ today_path +'_hold.txt'\n",
    "am_send_dedup.to_csv(path_archive+filename_archive, header=None, index=None, sep=',',quoting=csv.QUOTE_NONNUMERIC,encoding='ascii')"
   ]
  },
  {
   "cell_type": "code",
   "execution_count": null,
   "metadata": {
    "collapsed": false
   },
   "outputs": [],
   "source": [
    "# prepare the am send file\n",
    "am_send_ow=am_send_dedup[am_send_dedup['GRP']=='Organic Underwriting']\n",
    "am_send_ow['upd_Referral_Codes']='ORGUWD'\n",
    "am_send_ow['Account_Number']=am_send_ow['cust_id']\n",
    "send_date=datetime.date.today()+datetime.timedelta(14)\n",
    "am_send_ow['Referral_Date']=send_date.strftime('%Y%m%d')\n",
    "am_send_ow['_comment']=am_send_ow['reasons']\n",
    "am_send_ow['_routing_reason_codes']=np.nan\n",
    "am_send_ow['Priority_Score']=750\n",
    "am_send_ow['Detections_Exposure']=0\n",
    "am_send_ow['CAP_Value']=0\n",
    "am_send_ow['EBay_AVERAGE_Pricing']=0\n",
    "am_send_ow['_industry']=np.nan\n",
    "am_send_ow['_merchant_type_long']=\"D2S\"\n",
    "am_send_ow['Thirty_Day_Rolling_TPV']=0\n",
    "am_send_ow['Shadow_Monit_Flag']=0\n",
    "am_send_ow['Account_Managed_Flag']=0\n",
    "df_obj = am_send_ow.select_dtypes(['object'])\n",
    "am_send_ow[df_obj.columns] = df_obj.apply(lambda x: x.str.strip())\n",
    "am_send_csv=am_send_ow[['upd_Referral_Codes','Account_Number','Referral_Date','_comment','_routing_reason_codes','Priority_Score','Detections_Exposure','CAP_Value','EBay_AVERAGE_Pricing','_industry','_merchant_type_long'\n",
    "            ,'Thirty_Day_Rolling_TPV','Shadow_Monit_Flag','Account_Managed_Flag']]\n",
    "today_path=pd.Timestamp('today').strftime('%Y%m%d')\n",
    "filename_ow='zoot_ouw_referral_NA_'+ today_path +'_hold.txt'\n",
    "filename_ow\n",
    "am_send_csv.to_csv(hold_path+filename_ow, header=None, index=None, sep=',',quoting=csv.QUOTE_NONNUMERIC,encoding='ascii')"
   ]
  },
  {
   "cell_type": "code",
   "execution_count": null,
   "metadata": {
    "collapsed": false
   },
   "outputs": [],
   "source": [
    "# prepare the file for am PR\n",
    "am_send_pr=am_send_dedup[am_send_dedup['GRP']=='Periodic Review']\n",
    "am_send_pr['upd_Referral_Codes']='PERIODICREV'\n",
    "am_send_pr['Account_Number']=am_send_pr['cust_id']\n",
    "send_date=datetime.date.today()+datetime.timedelta(14)\n",
    "am_send_pr['Referral_Date']=send_date.strftime('%Y%m%d')\n",
    "am_send_pr['_comment']=am_send_pr['reasons']\n",
    "am_send_pr['_routing_reason_codes']=np.nan\n",
    "am_send_pr['Priority_Score']=750\n",
    "am_send_pr['Detections_Exposure']=0\n",
    "am_send_pr['CAP_Value']=0\n",
    "am_send_pr['EBay_AVERAGE_Pricing']=0\n",
    "am_send_pr['_industry']=np.nan\n",
    "am_send_pr['_merchant_type_long']=\"D2S\"\n",
    "am_send_pr['Thirty_Day_Rolling_TPV']=0\n",
    "am_send_pr['Shadow_Monit_Flag']=0\n",
    "am_send_pr['Account_Managed_Flag']=0\n",
    "df_obj = am_send_pr.select_dtypes(['object'])\n",
    "am_send_pr[df_obj.columns] = df_obj.apply(lambda x: x.str.strip())\n",
    "am_send_pr_csv=am_send_pr[['upd_Referral_Codes','Account_Number','Referral_Date','_comment','_routing_reason_codes','Priority_Score','Detections_Exposure','CAP_Value','EBay_AVERAGE_Pricing','_industry','_merchant_type_long'\n",
    "            ,'Thirty_Day_Rolling_TPV','Shadow_Monit_Flag','Account_Managed_Flag']]\n",
    "today_path=pd.Timestamp('today').strftime('%Y%m%d')\n",
    "filename_pr='zoot_PR_referral_NA_'+ today_path +'_hold.txt'\n",
    "am_send_pr_csv.to_csv(hold_path+filename_pr, header=None, index=None, sep=',',quoting=csv.QUOTE_NONNUMERIC,encoding='ascii')"
   ]
  },
  {
   "cell_type": "code",
   "execution_count": null,
   "metadata": {
    "collapsed": false
   },
   "outputs": [],
   "source": [
    "ow_nonam=pd.read_sql(sql_uw_nonam,simba)"
   ]
  },
  {
   "cell_type": "code",
   "execution_count": null,
   "metadata": {
    "collapsed": false
   },
   "outputs": [],
   "source": [
    "uw_noam=ow_nonam.loc[~ow_nonam['cust_id'].isin(frame[1])]"
   ]
  },
  {
   "cell_type": "code",
   "execution_count": null,
   "metadata": {
    "collapsed": true
   },
   "outputs": [],
   "source": [
    "uw_noam_score=uw_noam.loc[uw_noam['score']<690]"
   ]
  },
  {
   "cell_type": "code",
   "execution_count": null,
   "metadata": {
    "collapsed": false
   },
   "outputs": [],
   "source": [
    "uw_noam_dedup=uw_noam_score.loc[~uw_noam_score['cust_id'].isin(frame[1])]\n",
    "uw_noam_dedup['GRP']='Organic Underwriting'\n",
    "uw_noam_sent=uw_noam_dedup[['cust_id','GRP','AM_NAME','AM_SEGMENT','reasons','most_recent_rvw_dt','Auto_Tier']]\n",
    "uw_noam_sent=uw_noam_sent.drop_duplicates(subset=['cust_id'], keep=\"last\")"
   ]
  },
  {
   "cell_type": "code",
   "execution_count": null,
   "metadata": {
    "collapsed": false
   },
   "outputs": [],
   "source": [
    "uw_noam_sent"
   ]
  },
  {
   "cell_type": "code",
   "execution_count": null,
   "metadata": {
    "collapsed": true
   },
   "outputs": [],
   "source": [
    "# start the non-am pr\n",
    "sql_pr_nonam=\"\"\"SEL \n",
    "base.cust_id, base.reason as reasons\n",
    ", 'Periodic Review' as grp\n",
    ", base.am_name\n",
    ", base.am_segment\n",
    ", date as cutoff_dt\n",
    ", base.score\n",
    ", ' ' as Auto_Tier\n",
    ", base.most_recent_rvw_dt\n",
    ", 'PR' as seg\n",
    ", date as send_dt\n",
    "FROM pp_oap_yaoy_t.pr_routing base\n",
    "WHERE (base.most_recent_rvw_dt <= date -180 or base.most_recent_rvw_dt is null)\n",
    "AND (base.am_name in ('BSS','?', 'Channel Partner', 'Regional AM','LE') OR base.am_name IS NULL)\n",
    "And base.most_recent_rvw_dt<= current_date-210\n",
    "ORDER BY base.score asc\n",
    "\"\"\""
   ]
  },
  {
   "cell_type": "code",
   "execution_count": null,
   "metadata": {
    "collapsed": false
   },
   "outputs": [],
   "source": [
    "pr_nonam=pd.read_sql(sql_pr_nonam,simba)\n",
    "pr_noam_dedup=pr_nonam.loc[~pr_nonam['cust_id'].isin(frame[1])]\n",
    "pr_noam_score=pr_noam_dedup.loc[pr_noam_dedup['score']<720]\n",
    "pr_noam_dedup=pr_noam_score.loc[~pr_noam_score['cust_id'].isin(frame[1])]\n",
    "pr_noam_dedup['GRP']='Periodic Review'\n",
    "pr_noam_sent=pr_noam_dedup[['cust_id','GRP','AM_NAME','AM_SEGMENT','reasons','most_recent_rvw_dt','Auto_Tier']]\n",
    "pr_noam_sent=pr_noam_sent.drop_duplicates(subset=['cust_id'], keep=\"last\")\n",
    "pr_noam_sent"
   ]
  },
  {
   "cell_type": "code",
   "execution_count": null,
   "metadata": {
    "collapsed": true
   },
   "outputs": [],
   "source": [
    "pr_nonam_more=pd.read_sql(sql_pr_nonam_more,simba)\n",
    "pr_noam_more_dedup=pr_nonam_more.loc[~pr_nonam_more['cust_id'].isin(frame[1])]\n",
    "pr_noam_more_score=pr_noam_more_dedup.loc[pr_noam_more_dedup['score']<720]\n",
    "pr_noam_more_dedup=pr_noam_more_score.loc[~pr_noam_more_score['cust_id'].isin(frame[1])]\n",
    "pr_noam_more_dedup['GRP']='Periodic Review'\n",
    "pr_noam_more_sent=pr_noam_more_dedup[['cust_id','GRP','AM_NAME','AM_SEGMENT','reasons','most_recent_rvw_dt','Auto_Tier']]\n",
    "pr_noam_more_sent=pr_noam_more_sent.drop_duplicates(subset=['cust_id'], keep=\"last\")"
   ]
  },
  {
   "cell_type": "code",
   "execution_count": null,
   "metadata": {
    "collapsed": false
   },
   "outputs": [],
   "source": [
    "pr_noam_more_sent"
   ]
  },
  {
   "cell_type": "code",
   "execution_count": null,
   "metadata": {
    "collapsed": false
   },
   "outputs": [],
   "source": [
    "# prepare the deduped archive dataset\n",
    "nonam_send=pd.concat([uw_noam_sent, pr_noam_sent,pr_noam_more_sent], ignore_index=True)\n",
    "noam_send_dedup=nonam_send.drop_duplicates(subset=['cust_id'], keep=\"last\")\n",
    "noam_send_dedup=noam_send_dedup.loc[~noam_send_dedup['cust_id'].isin(frame[1])]"
   ]
  },
  {
   "cell_type": "code",
   "execution_count": null,
   "metadata": {
    "collapsed": false
   },
   "outputs": [],
   "source": [
    "noam_send_dedup"
   ]
  },
  {
   "cell_type": "code",
   "execution_count": null,
   "metadata": {
    "collapsed": true
   },
   "outputs": [],
   "source": [
    "# archive the noam send including UW and PR\n",
    "send_date=datetime.date.today()+datetime.timedelta(14)\n",
    "noam_send_dedup['send_dt']=send_date.strftime('%Y%m%d')\n",
    "df_obj = noam_send_dedup.select_dtypes(['object'])\n",
    "noam_send_dedup[df_obj.columns] = df_obj.apply(lambda x: x.str.strip())\n",
    "today_path=pd.Timestamp('today').strftime('%Y%m%d')\n",
    "filename_archive='zoot_all_send'+ today_path +'.txt'\n",
    "noam_send_dedup.to_csv(path_archive+filename_archive, header=None, index=None, sep=',',quoting=csv.QUOTE_NONNUMERIC,encoding='ascii')"
   ]
  },
  {
   "cell_type": "code",
   "execution_count": null,
   "metadata": {
    "collapsed": false
   },
   "outputs": [],
   "source": [
    "# prepare the UW nonam send\n",
    "noam_send_uw_final=noam_send_dedup[noam_send_dedup['GRP']=='Organic Underwriting']\n",
    "noam_send_uw_final['upd_Referral_Codes']='ORGUWD'\n",
    "noam_send_uw_final['Account_Number']=noam_send_uw_final['cust_id']\n",
    "noam_send_uw_final['Referral_Date']=pd.Timestamp('today').strftime('%Y%m%d')\n",
    "noam_send_uw_final['_comment']=noam_send_uw_final['reasons']\n",
    "noam_send_uw_final['_routing_reason_codes']=np.nan\n",
    "noam_send_uw_final['Priority_Score']=730\n",
    "noam_send_uw_final['Detections_Exposure']=0\n",
    "noam_send_uw_final['CAP_Value']=0\n",
    "noam_send_uw_final['EBay_AVERAGE_Pricing']=0\n",
    "noam_send_uw_final['_industry']=np.nan\n",
    "noam_send_uw_final['_merchant_type_long']=\"D2S\"\n",
    "noam_send_uw_final['Thirty_Day_Rolling_TPV']=0\n",
    "noam_send_uw_final['Shadow_Monit_Flag']=0\n",
    "noam_send_uw_final['Account_Managed_Flag']=0\n",
    "df_obj = noam_send_uw_final.select_dtypes(['object'])\n",
    "noam_send_uw_final[df_obj.columns] = df_obj.apply(lambda x: x.str.strip())\n",
    "noam_send_uw_csv=noam_send_uw_final[['upd_Referral_Codes','Account_Number','Referral_Date','_comment','_routing_reason_codes','Priority_Score','Detections_Exposure','CAP_Value','EBay_AVERAGE_Pricing','_industry','_merchant_type_long'\n",
    "            ,'Thirty_Day_Rolling_TPV','Shadow_Monit_Flag','Account_Managed_Flag']]\n",
    "today_path=pd.Timestamp('today').strftime('%Y%m%d')\n",
    "filename_ow='zoot_ouw_referral_NA_'+ today_path +'.txt'\n",
    "noam_send_uw_csv.to_csv(path+filename_ow, header=None, index=None, sep=',',quoting=csv.QUOTE_NONNUMERIC,encoding='ascii')"
   ]
  },
  {
   "cell_type": "code",
   "execution_count": null,
   "metadata": {
    "collapsed": false
   },
   "outputs": [],
   "source": [
    "noam_send_uw_csv"
   ]
  },
  {
   "cell_type": "code",
   "execution_count": null,
   "metadata": {
    "collapsed": false
   },
   "outputs": [],
   "source": [
    "# prepare the pr nonam send\n",
    "noam_send_pr_final=noam_send_dedup[noam_send_dedup['GRP']=='Periodic Review']\n",
    "noam_send_pr_final['upd_Referral_Codes']='PERIODICREV'\n",
    "noam_send_pr_final['Account_Number']=noam_send_pr_final['cust_id']\n",
    "noam_send_pr_final['Referral_Date']=pd.Timestamp('today').strftime('%Y%m%d')\n",
    "noam_send_pr_final['_comment']=noam_send_pr_final['reasons']\n",
    "noam_send_pr_final['_routing_reason_codes']=np.nan\n",
    "noam_send_pr_final['Priority_Score']=720\n",
    "noam_send_pr_final['Detections_Exposure']=0\n",
    "noam_send_pr_final['CAP_Value']=0\n",
    "noam_send_pr_final['EBay_AVERAGE_Pricing']=0\n",
    "noam_send_pr_final['_industry']=np.nan\n",
    "noam_send_pr_final['_merchant_type_long']=\"D2S\"\n",
    "noam_send_pr_final['Thirty_Day_Rolling_TPV']=0\n",
    "noam_send_pr_final['Shadow_Monit_Flag']=0\n",
    "noam_send_pr_final['Account_Managed_Flag']=0\n",
    "df_obj = noam_send_pr_final.select_dtypes(['object'])\n",
    "noam_send_pr_final[df_obj.columns] = df_obj.apply(lambda x: x.str.strip())\n",
    "noam_send_pr_csv=noam_send_pr_final[['upd_Referral_Codes','Account_Number','Referral_Date','_comment','_routing_reason_codes','Priority_Score','Detections_Exposure','CAP_Value','EBay_AVERAGE_Pricing','_industry','_merchant_type_long'\n",
    "            ,'Thirty_Day_Rolling_TPV','Shadow_Monit_Flag','Account_Managed_Flag']]\n",
    "today_path=pd.Timestamp('today').strftime('%Y%m%d')\n",
    "filename_pr='zoot_PR_referral_NA_'+ today_path +'.txt'\n",
    "noam_send_pr_csv.to_csv(path+filename_pr, header=None, index=None, sep=',',quoting=csv.QUOTE_NONNUMERIC,encoding='ascii')"
   ]
  },
  {
   "cell_type": "code",
   "execution_count": null,
   "metadata": {
    "collapsed": false
   },
   "outputs": [],
   "source": [
    "noam_send_pr_csv"
   ]
  },
  {
   "cell_type": "code",
   "execution_count": null,
   "metadata": {
    "collapsed": false
   },
   "outputs": [],
   "source": [
    "# prepare the pr nonam send change with combine\n",
    "noam_send_pr_final=noam_send_dedup[noam_send_dedup['GRP']=='Periodic Review']\n",
    "noam_send_pr_final['upd_Referral_Codes']='PERIODICREV'\n",
    "noam_send_pr_final['Account_Number']=noam_send_pr_final['cust_id']\n",
    "noam_send_pr_final['Referral_Date']=pd.Timestamp('today').strftime('%Y%m%d')\n",
    "noam_send_pr_final['_comment']=noam_send_pr_final['reasons']\n",
    "noam_send_pr_final['_routing_reason_codes']=np.nan\n",
    "noam_send_pr_final['Priority_Score']=750\n",
    "noam_send_pr_final['Detections_Exposure']=0\n",
    "noam_send_pr_final['CAP_Value']=0\n",
    "noam_send_pr_final['EBay_AVERAGE_Pricing']=0\n",
    "noam_send_pr_final['_industry']=np.nan\n",
    "noam_send_pr_final['_merchant_type_long']=\"D2S\"\n",
    "noam_send_pr_final['Thirty_Day_Rolling_TPV']=0\n",
    "noam_send_pr_final['Shadow_Monit_Flag']=0\n",
    "noam_send_pr_final['Account_Managed_Flag']=0\n",
    "noam_send_pr_csv=noam_send_pr_final[['upd_Referral_Codes','Account_Number','Referral_Date','_comment','_routing_reason_codes','Priority_Score','Detections_Exposure','CAP_Value','EBay_AVERAGE_Pricing','_industry','_merchant_type_long'\n",
    "            ,'Thirty_Day_Rolling_TPV','Shadow_Monit_Flag','Account_Managed_Flag']]\n",
    "# attach hold file\n",
    "cols=['upd_Referral_Codes','Account_Number','Referral_Date','_comment','_routing_reason_codes','Priority_Score','Detections_Exposure','CAP_Value','EBay_AVERAGE_Pricing','_industry','_merchant_type_long'\n",
    "            ,'Thirty_Day_Rolling_TPV','Shadow_Monit_Flag','Account_Managed_Flag']\n",
    "pre_pr_hold = pd.read_csv(hold_path+'zoot_PR_referral_NA_20170807_hold.txt', names=cols,header=None)\n",
    "pr_send_all=pd.concat([pre_pr_hold,noam_send_pr_csv], ignore_index=True)\n",
    "# strip column\n",
    "df_obj = pr_send_all.select_dtypes(['object'])\n",
    "pr_send_all[df_obj.columns] = df_obj.apply(lambda x: x.str.strip())\n",
    "\n",
    "today_path=pd.Timestamp('today').strftime('%Y%m%d')\n",
    "filename_pr='zoot_PR_referral_NA_'+ today_path +'.txt'\n",
    "# craete send file\n",
    "pr_send_all.to_csv(path+filename_pr, header=None, index=None, sep=',',quoting=csv.QUOTE_NONNUMERIC,encoding='ascii')"
   ]
  }
 ],
 "metadata": {
  "kernelspec": {
   "display_name": "Python 2",
   "language": "python",
   "name": "python2"
  },
  "language_info": {
   "codemirror_mode": {
    "name": "ipython",
    "version": 2
   },
   "file_extension": ".py",
   "mimetype": "text/x-python",
   "name": "python",
   "nbconvert_exporter": "python",
   "pygments_lexer": "ipython2",
   "version": "2.7.10"
  }
 },
 "nbformat": 4,
 "nbformat_minor": 1
}
